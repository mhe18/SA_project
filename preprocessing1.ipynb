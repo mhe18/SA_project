{
 "cells": [
  {
   "cell_type": "code",
   "execution_count": 11,
   "metadata": {
    "scrolled": true
   },
   "outputs": [
    {
     "name": "stderr",
     "output_type": "stream",
     "text": [
      "D:\\ProgramData\\Anaconda3\\lib\\site-packages\\bs4\\__init__.py:336: UserWarning: \"http://agsydhfj.com\" looks like a URL. Beautiful Soup is not an HTTP client. You should probably use an HTTP client like requests to get the document behind the URL, and feed that document to Beautiful Soup.\n",
      "  ' that document to Beautiful Soup.' % decoded_markup\n",
      "D:\\ProgramData\\Anaconda3\\lib\\site-packages\\bs4\\__init__.py:336: UserWarning: \"http://owfajfqruture.com\" looks like a URL. Beautiful Soup is not an HTTP client. You should probably use an HTTP client like requests to get the document behind the URL, and feed that document to Beautiful Soup.\n",
      "  ' that document to Beautiful Soup.' % decoded_markup\n",
      "D:\\ProgramData\\Anaconda3\\lib\\site-packages\\bs4\\__init__.py:336: UserWarning: \"http://www.glueck-ober-pech.com/\n",
      ":)))\n",
      "\n",
      "\n",
      "\n",
      "\" looks like a URL. Beautiful Soup is not an HTTP client. You should probably use an HTTP client like requests to get the document behind the URL, and feed that document to Beautiful Soup.\n",
      "  ' that document to Beautiful Soup.' % decoded_markup\n"
     ]
    }
   ],
   "source": [
    "import string\n",
    "import os\n",
    "import email\n",
    "import csv\n",
    "import re\n",
    "import base64\n",
    "from bs4 import BeautifulSoup as bs\n",
    "\n",
    "path = \"spam\" #Get folder path\n",
    "files= os.listdir(path) #Get all the file names under the folder\n",
    "s = []\n",
    "\n",
    "#A function used to decode email contents\n",
    "def relaxed_decode_base64(data):\n",
    " # If there is already padding we strim it as we calculate padding ourselves\n",
    "    if '=' in data:\n",
    "        data = data[:data.index('=')]\n",
    " # Add padding to see how many bytes are missing\n",
    "    missing_padding = len(data) % 4\n",
    " # Be mid-way through a byte\n",
    "    if missing_padding == 1:\n",
    "        data += 'A=='\n",
    " # Jut add on the correct length of padding\n",
    "    elif missing_padding == 2:\n",
    "        data += '=='\n",
    "    elif missing_padding == 3:\n",
    "        data += '='\n",
    "    return base64.b64decode(data)\n",
    "\n",
    "#Open the origial email file with utf-8-sig format\n",
    "with open(\"test.csv\",\"a\",newline ='',encoding='utf-8-sig') as csvfile: \n",
    "    writer = csv.writer(csvfile)\n",
    "    \n",
    "    i = 0;\n",
    "    for file in files:\n",
    "        #Manually skip the emails that are messy codes and cannot be properly decoded\n",
    "        if file ==\"inmail.3702\" or file ==\"inmail.52037\" or file ==\"inmail.53001\" or file ==\"inmail.54383\" or file ==\"inmail.54412\":\n",
    "            continue\n",
    "            \n",
    "        f = open(path+\"/\"+file,errors='ignore');\n",
    "        iter_f = iter(f);\n",
    "        strr=\"\"\n",
    "        #Traversing lines in the file\n",
    "        for line in iter_f:\n",
    "            strr = strr + line\n",
    "        email_str = email.message_from_string(strr)\n",
    "        temp=\"\"\n",
    "        \n",
    "        #First consider the circumistance that the email's tpye is multipart\n",
    "        if email_str.is_multipart():\n",
    "            for payload in email_str.get_payload():\n",
    "                #Ignore all the images in the emails\n",
    "                if payload.get_content_type() != \"image/gif\" and payload.get_content_type() != \"image/jpg\":\n",
    "                    if payload.is_multipart():\n",
    "                        for payload1 in payload.get_payload():\n",
    "                            string = payload1.get_payload(decode=True)\n",
    "                            if string:\n",
    "                                #Use BeautifulSoup to remove all the 'html' labels and transfer it into string\n",
    "                                soup = bs(string,\"lxml\").text\n",
    "                                temp += soup\n",
    "                    else:\n",
    "                        #Manually process the emails that cannot be decoded by base64, because these emails are Japanese\n",
    "                        if file == \"inmail.14761\" or file == \"inmail.2548\" or file == \"inmail.51169\" or file == \"inmail.52153\"or file == \"inmail.70048\" or file == \"inmail.72540\":\n",
    "                            string = payload.get_payload(decode=False)\n",
    "                            string = relaxed_decode_base64(string)\n",
    "                        else:\n",
    "                            string = payload.get_payload(decode=True)\n",
    "                        if string:\n",
    "                            soup = bs(string,\"lxml\").text\n",
    "                            temp += soup\n",
    "        else:\n",
    "            string = email_str.get_payload(decode=True)\n",
    "            temp = bs(string,\"lxml\").text\n",
    "        \n",
    "        writer.writerow([file,temp,1])\n",
    "\n"
   ]
  },
  {
   "cell_type": "code",
   "execution_count": null,
   "metadata": {},
   "outputs": [],
   "source": []
  },
  {
   "cell_type": "code",
   "execution_count": null,
   "metadata": {},
   "outputs": [],
   "source": []
  }
 ],
 "metadata": {
  "kernelspec": {
   "display_name": "Python 3",
   "language": "python",
   "name": "python3"
  },
  "language_info": {
   "codemirror_mode": {
    "name": "ipython",
    "version": 3
   },
   "file_extension": ".py",
   "mimetype": "text/x-python",
   "name": "python",
   "nbconvert_exporter": "python",
   "pygments_lexer": "ipython3",
   "version": "3.6.6"
  }
 },
 "nbformat": 4,
 "nbformat_minor": 2
}
