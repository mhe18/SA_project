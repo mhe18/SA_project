{
 "cells": [
  {
   "cell_type": "code",
   "execution_count": 3,
   "metadata": {},
   "outputs": [
    {
     "name": "stdout",
     "output_type": "stream",
     "text": [
      "\n",
      "Do you feel the pressure to perform and not rising to the occasion??\n",
      "\n",
      "\n",
      "\n",
      "\n",
      "Try Viagra.....\n",
      "your anxiety will be a thing of the past and you will\n",
      "be back to your old self.\n"
     ]
    }
   ],
   "source": [
    "import os\n",
    "import email\n",
    "from bs4 import BeautifulSoup as bs\n",
    "import csv\n",
    "import string\n",
    "import re\n",
    "import base64\n",
    "import pandas as pd\n",
    "f = open(\"spam/inmail.1\", errors='ignore');\n",
    "iter_f = iter(f);\n",
    "strr=\"\"\n",
    "for line in iter_f: \n",
    "    strr = strr + line\n",
    "b = email.message_from_string(strr)\n",
    "temp=\"\"\n",
    "def relaxed_decode_base64(data):\n",
    "\n",
    " # If there is already padding we strim it as we calculate padding ourselves.\n",
    "    if '=' in data:\n",
    "        data = data[:data.index('=')]\n",
    "\n",
    " # We need to add padding, how many bytes are missing.\n",
    "    missing_padding = len(data) % 4\n",
    " # We would be mid-way through a byte.\n",
    "    if missing_padding == 1:\n",
    "        data += 'A=='\n",
    " # Jut add on the correct length of padding.\n",
    "    elif missing_padding == 2:\n",
    "        data += '=='\n",
    "    elif missing_padding == 3:\n",
    "        data += '='\n",
    "    return base64.b64decode(data)\n",
    "if b.is_multipart():\n",
    "    for payload in b.get_payload():\n",
    "        print(temp)\n",
    "        if payload.get_content_type() != \"image/gif\":\n",
    "            if payload.is_multipart():\n",
    "                for payload1 in payload.get_payload():\n",
    "                    #print(payload1.get_content_type())\n",
    "                    string = payload.get_payload(decode=False)\n",
    "                    string = relaxed_decode_base64(string)\n",
    "                    if string:\n",
    "                        soup = bs(string,\"lxml\").text\n",
    "                        temp += soup\n",
    "            else:\n",
    "                #print(payload1.get_content_type())\n",
    "                #string = payload.get_payload(decode=False)\n",
    "                #\n",
    "                #print(len(string))\n",
    "                #string += \"=\" * ((4 - len(string) % 4) % 4)\n",
    "                string = payload.get_payload(decode=True)\n",
    "                #string = string.rstrip()\n",
    "                #string = relaxed_decode_base64(string)\n",
    "                if string:\n",
    "                    soup = bs(string,\"lxml\").text\n",
    "                    temp += soup\n",
    "else:\n",
    "    string = payload.get_payload(decode=False)\n",
    "    string = relaxed_decode_base64(string)\n",
    "    temp = bs(string,\"lxml\").text\n",
    "temp = temp.strip()\n",
    "print(temp)\n",
    "#with open(\"test.csv\",\"a\",newline ='',encoding='utf-8-sig') as csvfile: \n",
    "#    writer = csv.writer(csvfile)\n",
    "#    writer.writerow([\"index\",\"content\",\"class\"])\n",
    "#    writer.writerow([1,temp,0])\n",
    "#df = pd.read_csv('test.csv')\n",
    "#print(df['class'][50000])"
   ]
  },
  {
   "cell_type": "code",
   "execution_count": null,
   "metadata": {},
   "outputs": [],
   "source": []
  },
  {
   "cell_type": "code",
   "execution_count": null,
   "metadata": {},
   "outputs": [],
   "source": []
  },
  {
   "cell_type": "code",
   "execution_count": null,
   "metadata": {},
   "outputs": [],
   "source": []
  },
  {
   "cell_type": "code",
   "execution_count": null,
   "metadata": {},
   "outputs": [],
   "source": []
  }
 ],
 "metadata": {
  "kernelspec": {
   "display_name": "Python 3",
   "language": "python",
   "name": "python3"
  },
  "language_info": {
   "codemirror_mode": {
    "name": "ipython",
    "version": 3
   },
   "file_extension": ".py",
   "mimetype": "text/x-python",
   "name": "python",
   "nbconvert_exporter": "python",
   "pygments_lexer": "ipython3",
   "version": "3.6.6"
  }
 },
 "nbformat": 4,
 "nbformat_minor": 2
}
